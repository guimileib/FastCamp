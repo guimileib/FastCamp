{
 "cells": [
  {
   "cell_type": "code",
   "execution_count": 1,
   "id": "0495c477",
   "metadata": {},
   "outputs": [
    {
     "name": "stdout",
     "output_type": "stream",
     "text": [
      "Requirement already satisfied: python-dotenv in ./.venv/lib/python3.12/site-packages (1.1.0)\n",
      "Note: you may need to restart the kernel to use updated packages.\n"
     ]
    }
   ],
   "source": [
    "%pip install python-dotenv"
   ]
  },
  {
   "cell_type": "code",
   "execution_count": null,
   "id": "0193caa9",
   "metadata": {},
   "outputs": [
    {
     "data": {
      "text/plain": [
       "True"
      ]
     },
     "execution_count": 2,
     "metadata": {},
     "output_type": "execute_result"
    }
   ],
   "source": [
    "from dotenv import load_dotenv\n",
    "import os\n",
    "from groq import Groq\n",
    "# Carregandos os dados da .env\n",
    "load_dotenv() "
   ]
  },
  {
   "cell_type": "code",
   "execution_count": null,
   "id": "616004f7",
   "metadata": {},
   "outputs": [
    {
     "name": "stdout",
     "output_type": "stream",
     "text": [
      "Fast language models are crucial in natural language processing (NLP) as they enable efficient and effective text analysis, generation, and understanding. The importance of fast language models can be seen in several areas:\n",
      "\n",
      "1. **Real-time Applications**: Fast language models are essential for real-time applications such as chatbots, virtual assistants, and language translation software. They enable rapid processing and response to user input, ensuring a seamless and interactive experience.\n",
      "2. **Scalability**: Fast language models can handle large volumes of text data, making them ideal for big data analytics, sentiment analysis, and text classification tasks. This scalability is critical for applications that require processing massive amounts of text data, such as social media monitoring or customer feedback analysis.\n",
      "3. **Low-Latency**: Fast language models minimize latency, which is the delay between the input and output of a system. Low-latency is vital for applications that require instant feedback, such as speech recognition, sentiment analysis, or recommender systems.\n",
      "4. **Improved User Experience**: Fast language models contribute to a better user experience by providing rapid and accurate responses to user queries. This is particularly important for applications that require instant feedback, such as language translation, text summarization, or question-answering systems.\n",
      "5. **Competitive Advantage**: Organizations that adopt fast language models can gain a competitive advantage by providing faster and more accurate services, such as language translation, text analysis, or content generation.\n",
      "6. **Research and Development**: Fast language models facilitate research and development in NLP by enabling researchers to quickly test and evaluate new ideas, models, and techniques. This accelerates the pace of innovation and advancements in the field.\n",
      "7. **Edge Devices**: Fast language models are essential for edge devices, such as smartphones, smart home devices, or wearables, where computational resources are limited. They enable devices to process and respond to user input quickly, without relying on cloud-based services.\n",
      "8. **Autonomous Systems**: Fast language models are critical for autonomous systems, such as self-driving cars, drones, or robots, where rapid processing and response to environmental changes are essential for safety and efficiency.\n",
      "9. **Cybersecurity**: Fast language models can help detect and respond to cyber threats, such as phishing attacks or malware, by quickly analyzing and understanding text-based data.\n",
      "10. **Cost-Effectiveness**: Fast language models can reduce computational costs by minimizing the time and resources required to process text data. This is particularly important for organizations that handle large volumes of text data and require cost-effective solutions.\n",
      "\n",
      "In summary, fast language models are vital for a wide range of applications, from real-time chatbots and virtual assistants to autonomous systems and cybersecurity. Their importance lies in their ability to provide rapid, accurate, and efficient text analysis, generation, and understanding, which is critical for many industries and use cases.\n"
     ]
    }
   ],
   "source": [
    "import os\n",
    "\n",
    "from groq import Groq\n",
    "# Inicializando o cliente Groq com a chave da API\n",
    "client = Groq(\n",
    "    api_key=os.environ.get(\"GROQ_API_KEY\"),\n",
    ")\n",
    "# Criando uma solicitação de conclusão de chat\n",
    "chat_completion = client.chat.completions.create(\n",
    "    messages=[\n",
    "        {\n",
    "            \"role\": \"user\",\n",
    "            \"content\": \"Explain the importance of fast language models\",\n",
    "        }\n",
    "    ],\n",
    "    model=\"llama-3.3-70b-versatile\",\n",
    ")\n",
    "# Exibindo o conteúdo da resposta\n",
    "print(chat_completion.choices[0].message.content)\n"
   ]
  },
  {
   "cell_type": "code",
   "execution_count": null,
   "id": "99249fcc",
   "metadata": {},
   "outputs": [],
   "source": [
    "# Groq Agent Class\n",
    "class Agent:\n",
    "    # Construtor de classe para inicializar o cliente Groq e o sistema\n",
    "    def __init__(self, client: Groq, system: str = \"\") -> None:\n",
    "        self.client = client\n",
    "        self.system = system\n",
    "        self.messages: list = []\n",
    "        if self.system:\n",
    "            self.messages.append({\"role\": \"system\", \"content\": system})\n",
    "# Método para adicionar uma mensagem do usuário e obter uma resposta do modelo\n",
    "    def __call__(self, message=\"\"):\n",
    "        if message:\n",
    "            self.messages.append({\"role\": \"user\", \"content\": message})\n",
    "        result = self.execute()\n",
    "        self.messages.append({\"role\": \"assistant\", \"content\": result})\n",
    "        return result\n",
    "# Método para executar a solicitação de conclusão de chat\n",
    "    def execute(self):\n",
    "        completion = client.chat.completions.create(\n",
    "            model=\"llama-3.3-70b-versatile\", messages=self.messages\n",
    "        )\n",
    "        return completion.choices[0].message.content"
   ]
  },
  {
   "cell_type": "code",
   "execution_count": null,
   "id": "ee0bd678",
   "metadata": {},
   "outputs": [],
   "source": [
    "# Definindo o sistema de prompt para o agente\n",
    "system_prompt = \"\"\"\n",
    "You run in a loop of Thought, Action, PAUSE, Observation.\n",
    "At the end of the loop you output an Answer\n",
    "Use Thought to describe your thoughts about the question you have been asked.\n",
    "Use Action to run one of the actions available to you - then return PAUSE.\n",
    "Observation will be the result of running those actions.\n",
    "\n",
    "Your available actions are:\n",
    "\n",
    "calculate:\n",
    "e.g. calculate: 4 * 7 / 3\n",
    "Runs a calculation and returns the number - uses Python so be sure to use floating point syntax if necessary\n",
    "\n",
    "get_planet_mass:\n",
    "e.g. get_planet_mass: Earth\n",
    "returns weight of the planet in kg\n",
    "\n",
    "Example session:\n",
    "\n",
    "Question: What is the mass of Earth times 2?\n",
    "Thought: I need to find the mass of Earth\n",
    "Action: get_planet_mass: Earth\n",
    "PAUSE \n",
    "\n",
    "You will be called again with this:\n",
    "\n",
    "Observation: 5.972e24\n",
    "\n",
    "Thought: I need to multiply this by 2\n",
    "Action: calculate: 5.972e24 * 2\n",
    "PAUSE\n",
    "\n",
    "You will be called again with this: \n",
    "\n",
    "Observation: 1,1944×10e25\n",
    "\n",
    "If you have the answer, output it as the Answer.\n",
    "\n",
    "Answer: The mass of Earth times 2 is 1,1944×10e25.\n",
    "\n",
    "Now it's your turn:\n",
    "\"\"\".strip()"
   ]
  },
  {
   "cell_type": "code",
   "execution_count": 6,
   "id": "aaf7035a",
   "metadata": {},
   "outputs": [],
   "source": [
    "# ferramenta = são as funções que o agente pode chamar\n",
    "def calculate(operation: str) -> float:\n",
    "    return eval(operation)\n",
    "\n",
    "\n",
    "def get_planet_mass(planet) -> float: # Nessa função eu poderia usar uma API para pegar a massa dos planetas, mas como é um exemplo, vou usar valores fixos\n",
    "    match planet.lower():\n",
    "        case \"earth\":\n",
    "            return 5.972e24\n",
    "        case \"jupiter\":\n",
    "            return 1.898e27\n",
    "        case \"mars\":\n",
    "            return 6.39e23\n",
    "        case \"mercury\":\n",
    "            return 3.285e23\n",
    "        case \"neptune\":\n",
    "            return 1.024e26\n",
    "        case \"saturn\":\n",
    "            return 5.683e26\n",
    "        case \"uranus\":\n",
    "            return 8.681e25\n",
    "        case \"venus\":\n",
    "            return 4.867e24\n",
    "        case _:\n",
    "            return 0.0"
   ]
  },
  {
   "cell_type": "code",
   "execution_count": null,
   "id": "278bf412",
   "metadata": {},
   "outputs": [],
   "source": [
    "# Instanciando o agente com o cliente Groq e o sistema de prompt\n",
    "uncle_sam = Agent(client=client, system=system_prompt)"
   ]
  },
  {
   "cell_type": "code",
   "execution_count": null,
   "id": "bc3c199b",
   "metadata": {},
   "outputs": [
    {
     "name": "stdout",
     "output_type": "stream",
     "text": [
      "Thought: To find the mass of Earth times 5, I need to first find the mass of Earth and then multiply it by 5.\n",
      "Action: get_planet_mass: Earth\n",
      "PAUSE\n"
     ]
    }
   ],
   "source": [
    "# Exemplo de uso do agente para calcular a massa da Terra vezes 5\n",
    "result = uncle_sam(\"What is the mass of Earth times 5?\")\n",
    "print(result)"
   ]
  },
  {
   "cell_type": "code",
   "execution_count": 9,
   "id": "2a77b34a",
   "metadata": {},
   "outputs": [
    {
     "data": {
      "text/plain": [
       "[{'role': 'system',\n",
       "  'content': \"You run in a loop of Thought, Action, PAUSE, Observation.\\nAt the end of the loop you output an Answer\\nUse Thought to describe your thoughts about the question you have been asked.\\nUse Action to run one of the actions available to you - then return PAUSE.\\nObservation will be the result of running those actions.\\n\\nYour available actions are:\\n\\ncalculate:\\ne.g. calculate: 4 * 7 / 3\\nRuns a calculation and returns the number - uses Python so be sure to use floating point syntax if necessary\\n\\nget_planet_mass:\\ne.g. get_planet_mass: Earth\\nreturns weight of the planet in kg\\n\\nExample session:\\n\\nQuestion: What is the mass of Earth times 2?\\nThought: I need to find the mass of Earth\\nAction: get_planet_mass: Earth\\nPAUSE \\n\\nYou will be called again with this:\\n\\nObservation: 5.972e24\\n\\nThought: I need to multiply this by 2\\nAction: calculate: 5.972e24 * 2\\nPAUSE\\n\\nYou will be called again with this: \\n\\nObservation: 1,1944×10e25\\n\\nIf you have the answer, output it as the Answer.\\n\\nAnswer: The mass of Earth times 2 is 1,1944×10e25.\\n\\nNow it's your turn:\"},\n",
       " {'role': 'user', 'content': 'What is the mass of Earth times 5?'},\n",
       " {'role': 'assistant',\n",
       "  'content': 'Thought: To find the mass of Earth times 5, I need to first find the mass of Earth and then multiply it by 5.\\nAction: get_planet_mass: Earth\\nPAUSE'}]"
      ]
     },
     "execution_count": 9,
     "metadata": {},
     "output_type": "execute_result"
    }
   ],
   "source": [
    "uncle_sam.messages # Olha o histórico de mensagens do agente"
   ]
  },
  {
   "cell_type": "code",
   "execution_count": 10,
   "id": "739efce5",
   "metadata": {},
   "outputs": [
    {
     "name": "stdout",
     "output_type": "stream",
     "text": [
      "\n"
     ]
    }
   ],
   "source": [
    "result = uncle_sam()\n",
    "print(result)"
   ]
  },
  {
   "cell_type": "code",
   "execution_count": null,
   "id": "a54696d0",
   "metadata": {},
   "outputs": [
    {
     "name": "stdout",
     "output_type": "stream",
     "text": [
      "5.972e+24\n"
     ]
    }
   ],
   "source": [
    "# Exemplo de uso da função get_planet_mass\n",
    "observation = get_planet_mass(\"Earth\")\n",
    "print(observation)"
   ]
  },
  {
   "cell_type": "code",
   "execution_count": null,
   "id": "bb635d54",
   "metadata": {},
   "outputs": [
    {
     "name": "stdout",
     "output_type": "stream",
     "text": [
      "Thought: Now that I have the mass of Earth, I can multiply it by 5 to get the final answer.\n",
      "Action: calculate: 5.972e+24 * 5\n",
      "PAUSE\n"
     ]
    }
   ],
   "source": [
    "# Continuando o loop do agente com a observação obtida\n",
    "next_promt = f\"Observation: {observation}\"\n",
    "result = uncle_sam(next_promt)\n",
    "print(result)"
   ]
  },
  {
   "cell_type": "code",
   "execution_count": 13,
   "id": "35b26067",
   "metadata": {},
   "outputs": [
    {
     "data": {
      "text/plain": [
       "[{'role': 'system',\n",
       "  'content': \"You run in a loop of Thought, Action, PAUSE, Observation.\\nAt the end of the loop you output an Answer\\nUse Thought to describe your thoughts about the question you have been asked.\\nUse Action to run one of the actions available to you - then return PAUSE.\\nObservation will be the result of running those actions.\\n\\nYour available actions are:\\n\\ncalculate:\\ne.g. calculate: 4 * 7 / 3\\nRuns a calculation and returns the number - uses Python so be sure to use floating point syntax if necessary\\n\\nget_planet_mass:\\ne.g. get_planet_mass: Earth\\nreturns weight of the planet in kg\\n\\nExample session:\\n\\nQuestion: What is the mass of Earth times 2?\\nThought: I need to find the mass of Earth\\nAction: get_planet_mass: Earth\\nPAUSE \\n\\nYou will be called again with this:\\n\\nObservation: 5.972e24\\n\\nThought: I need to multiply this by 2\\nAction: calculate: 5.972e24 * 2\\nPAUSE\\n\\nYou will be called again with this: \\n\\nObservation: 1,1944×10e25\\n\\nIf you have the answer, output it as the Answer.\\n\\nAnswer: The mass of Earth times 2 is 1,1944×10e25.\\n\\nNow it's your turn:\"},\n",
       " {'role': 'user', 'content': 'What is the mass of Earth times 5?'},\n",
       " {'role': 'assistant',\n",
       "  'content': 'Thought: To find the mass of Earth times 5, I need to first find the mass of Earth and then multiply it by 5.\\nAction: get_planet_mass: Earth\\nPAUSE'},\n",
       " {'role': 'assistant', 'content': ''},\n",
       " {'role': 'user', 'content': 'Observation: 5.972e+24'},\n",
       " {'role': 'assistant',\n",
       "  'content': 'Thought: Now that I have the mass of Earth, I can multiply it by 5 to get the final answer.\\nAction: calculate: 5.972e+24 * 5\\nPAUSE'}]"
      ]
     },
     "execution_count": 13,
     "metadata": {},
     "output_type": "execute_result"
    }
   ],
   "source": [
    "uncle_sam.messages # Olha o histórico de mensagens do agente"
   ]
  },
  {
   "cell_type": "code",
   "execution_count": 14,
   "id": "eb5a4679",
   "metadata": {},
   "outputs": [
    {
     "name": "stdout",
     "output_type": "stream",
     "text": [
      "\n"
     ]
    }
   ],
   "source": [
    "result = uncle_sam()\n",
    "print(result)\n",
    "# O agente pode continuar a conversa, chamando o modelo novamente"
   ]
  },
  {
   "cell_type": "code",
   "execution_count": 15,
   "id": "be206f86",
   "metadata": {},
   "outputs": [
    {
     "name": "stdout",
     "output_type": "stream",
     "text": [
      "1.6425e+24\n"
     ]
    }
   ],
   "source": [
    "observation = calculate(\"3.285e23 * 5\")\n",
    "print(observation)"
   ]
  },
  {
   "cell_type": "code",
   "execution_count": 16,
   "id": "1b3147c4",
   "metadata": {},
   "outputs": [
    {
     "name": "stdout",
     "output_type": "stream",
     "text": [
      "Thought: The calculation result is the mass of Earth times 5, so I have my final answer.\n",
      "Action: None\n",
      "Answer: The mass of Earth times 5 is 2.986e+25.\n"
     ]
    }
   ],
   "source": [
    "next_promt = f\"Observation: {observation}\"\n",
    "result = uncle_sam(next_promt)\n",
    "print(result)"
   ]
  },
  {
   "cell_type": "code",
   "execution_count": 17,
   "id": "17b69cda",
   "metadata": {},
   "outputs": [
    {
     "data": {
      "text/plain": [
       "[{'role': 'system',\n",
       "  'content': \"You run in a loop of Thought, Action, PAUSE, Observation.\\nAt the end of the loop you output an Answer\\nUse Thought to describe your thoughts about the question you have been asked.\\nUse Action to run one of the actions available to you - then return PAUSE.\\nObservation will be the result of running those actions.\\n\\nYour available actions are:\\n\\ncalculate:\\ne.g. calculate: 4 * 7 / 3\\nRuns a calculation and returns the number - uses Python so be sure to use floating point syntax if necessary\\n\\nget_planet_mass:\\ne.g. get_planet_mass: Earth\\nreturns weight of the planet in kg\\n\\nExample session:\\n\\nQuestion: What is the mass of Earth times 2?\\nThought: I need to find the mass of Earth\\nAction: get_planet_mass: Earth\\nPAUSE \\n\\nYou will be called again with this:\\n\\nObservation: 5.972e24\\n\\nThought: I need to multiply this by 2\\nAction: calculate: 5.972e24 * 2\\nPAUSE\\n\\nYou will be called again with this: \\n\\nObservation: 1,1944×10e25\\n\\nIf you have the answer, output it as the Answer.\\n\\nAnswer: The mass of Earth times 2 is 1,1944×10e25.\\n\\nNow it's your turn:\"},\n",
       " {'role': 'user', 'content': 'What is the mass of Earth times 5?'},\n",
       " {'role': 'assistant',\n",
       "  'content': 'Thought: To find the mass of Earth times 5, I need to first find the mass of Earth and then multiply it by 5.\\nAction: get_planet_mass: Earth\\nPAUSE'},\n",
       " {'role': 'assistant', 'content': ''},\n",
       " {'role': 'user', 'content': 'Observation: 5.972e+24'},\n",
       " {'role': 'assistant',\n",
       "  'content': 'Thought: Now that I have the mass of Earth, I can multiply it by 5 to get the final answer.\\nAction: calculate: 5.972e+24 * 5\\nPAUSE'},\n",
       " {'role': 'assistant', 'content': ''},\n",
       " {'role': 'user', 'content': 'Observation: 1.6425e+24'},\n",
       " {'role': 'assistant',\n",
       "  'content': 'Thought: The calculation result is the mass of Earth times 5, so I have my final answer.\\nAction: None\\nAnswer: The mass of Earth times 5 is 2.986e+25.'}]"
      ]
     },
     "execution_count": 17,
     "metadata": {},
     "output_type": "execute_result"
    }
   ],
   "source": [
    "uncle_sam.messages # Olha o histórico de mensagens do agente"
   ]
  },
  {
   "cell_type": "code",
   "execution_count": 18,
   "id": "57d362fd",
   "metadata": {},
   "outputs": [
    {
     "name": "stdout",
     "output_type": "stream",
     "text": [
      "Thought: To find the mass of Earth plus the mass of Saturn and all of that times 2, I first need to find the individual masses of Earth and Saturn. Then, I can add these masses together and multiply the result by 2.\n",
      "\n",
      "Action: get_planet_mass: Earth\n",
      "PAUSE\n",
      "Observation: 5.972e+24\n",
      "Thought: Now that I have the mass of Earth, I need to find the mass of Saturn. After that, I can add the two masses together and then multiply the result by 2.\n",
      "\n",
      "Action: get_planet_mass: Saturn\n",
      "PAUSE\n",
      "Observation: 5.683e+26\n",
      "Thought: I now have the masses of both Earth and Saturn. The next step is to add these two masses together. After adding them, I will then multiply the sum by 2 to get the final result.\n",
      "\n",
      "Action: calculate: 5.972e24 + 5.683e26\n",
      "PAUSE\n",
      "Observation: 5.74272e+26\n",
      "Thought: I have successfully added the masses of Earth and Saturn. The result is 5.74272e+26 kg. Now, I need to multiply this sum by 2 to get the final answer.\n",
      "\n",
      "Action: calculate: 5.74272e+26 * 2\n",
      "PAUSE\n",
      "Observation: 1.148544e+27\n",
      "Thought: I have now multiplied the sum of the masses of Earth and Saturn by 2, which gives me the final result.\n",
      "\n",
      "Answer: The mass of Earth plus the mass of Saturn and all of that times 2 is 1.148544e+27.\n"
     ]
    }
   ],
   "source": [
    "import re # Regex para extrair a ação e o argumento\n",
    "\n",
    "def agent_loop(max_iterations, query):\n",
    "    agent = Agent(client, system_prompt)\n",
    "    tools = ['calculate', 'get_planet_mass']\n",
    "    next_prompt = query\n",
    "    i = 0\n",
    "    while i < max_iterations:\n",
    "        i+= 1\n",
    "        result = agent(next_prompt)\n",
    "        print(result)\n",
    "        \n",
    "        if \"PAUSE\" in result and \"Action\" in result:\n",
    "            action = re.findall(r\"Action: ([a-z_]+): (.+)\", result, re.IGNORECASE)\n",
    "            chosen_tool = action[0][0]\n",
    "            arg = action[0][1]\n",
    "\n",
    "            if chosen_tool in tools:\n",
    "                result_tool = eval(f\"{chosen_tool}('{arg}')\")\n",
    "                next_prompt = f\"Observation: {result_tool}\"\n",
    "\n",
    "            else:\n",
    "                next_prompt = \"Observation: Tool not found\"\n",
    "\n",
    "            print(next_prompt)\n",
    "            continue\n",
    "\n",
    "        if \"Answer\" in result:\n",
    "            break\n",
    "\n",
    "agent_loop(max_iterations=10, query=\"What is the mass of Earth plus the mass of Saturn and all of that times 2?\")"
   ]
  }
 ],
 "metadata": {
  "kernelspec": {
   "display_name": ".venv",
   "language": "python",
   "name": "python3"
  },
  "language_info": {
   "codemirror_mode": {
    "name": "ipython",
    "version": 3
   },
   "file_extension": ".py",
   "mimetype": "text/x-python",
   "name": "python",
   "nbconvert_exporter": "python",
   "pygments_lexer": "ipython3",
   "version": "3.12.3"
  }
 },
 "nbformat": 4,
 "nbformat_minor": 5
}
