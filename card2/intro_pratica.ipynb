{
 "cells": [
  {
   "cell_type": "code",
   "execution_count": null,
   "id": "026efeca",
   "metadata": {},
   "outputs": [
    {
     "data": {
      "text/plain": [
       "True"
      ]
     },
     "execution_count": 62,
     "metadata": {},
     "output_type": "execute_result"
    }
   ],
   "source": [
    "from dotenv import load_dotenv\n",
    "import os\n",
    "from groq import Groq\n",
    "# Carregandos os dados da .env\n",
    "load_dotenv()"
   ]
  },
  {
   "cell_type": "code",
   "execution_count": null,
   "id": "99a11709",
   "metadata": {},
   "outputs": [
    {
     "name": "stdout",
     "output_type": "stream",
     "text": [
      "Fast language models are crucial in today's technology landscape, and their importance can be summarized as follows:\n",
      "\n",
      "1. **Improved User Experience**: Fast language models can process and respond to user queries quickly, providing an enhanced user experience. This is particularly important in applications like chatbots, virtual assistants, and language translation software, where speed and accuracy are critical.\n",
      "2. **Real-Time Applications**: Fast language models can handle real-time applications, such as speech recognition, sentiment analysis, and content moderation, which require immediate processing and response.\n",
      "3. **Efficient Data Processing**: Fast language models can process large amounts of data quickly, making them ideal for applications like text analysis, data mining, and information retrieval.\n",
      "4. **Reduced Latency**: Fast language models can reduce latency, which is the time it takes for a model to process a request and respond. This is particularly important in applications like voice assistants, where users expect quick and accurate responses.\n",
      "5. **Increased Productivity**: Fast language models can automate many tasks, freeing up human resources for more complex and creative tasks. This can lead to increased productivity and efficiency in industries like customer service, content creation, and language translation.\n",
      "6. **Competitive Advantage**: Companies that use fast language models can gain a competitive advantage by providing faster and more accurate services, which can lead to increased customer satisfaction and loyalty.\n",
      "7. **Improved Accuracy**: Fast language models can also lead to improved accuracy, as they can process and analyze large amounts of data quickly, reducing the likelihood of errors and inconsistencies.\n",
      "8. **Enhanced Multilingual Support**: Fast language models can support multiple languages, which can help businesses and organizations reach a global audience and cater to diverse language needs.\n",
      "9. **Edge AI and IoT Applications**: Fast language models are essential for edge AI and IoT applications, where devices need to process and respond to data in real-time, with limited computational resources and bandwidth.\n",
      "\n",
      "To achieve fast language models, researchers and developers use various techniques, such as:\n",
      "\n",
      "1. **Model pruning**: reducing the size and complexity of the model while maintaining its accuracy.\n",
      "2. **Knowledge distillation**: transferring knowledge from a large, pre-trained model to a smaller, faster model.\n",
      "3. **Quantization**: reducing the precision of the model's weights and activations to reduce computational requirements.\n",
      "4. **Parallel processing**: using multiple processing units or GPUs to accelerate model inference.\n",
      "5. **Specialized hardware**: using hardware accelerators like TPUs, GPUs, or FPGAs to accelerate model inference.\n",
      "\n",
      "Overall, fast language models are essential for a wide range of applications, and their development has the potential to transform many industries and aspects of our lives.\n"
     ]
    }
   ],
   "source": [
    "import os\n",
    "\n",
    "from groq import Groq\n",
    "# Inicializando o cliente Groq com a chave da API\n",
    "client = Groq(\n",
    "    api_key=os.environ.get(\"GROQ_API\"),\n",
    ")\n",
    "# Criando uma solicitação de conclusão de chat\n",
    "chat_completion = client.chat.completions.create(\n",
    "    messages=[\n",
    "        {\n",
    "            \"role\": \"user\",\n",
    "            \"content\": \"Explain the importance of fast language models\",\n",
    "        }\n",
    "    ],\n",
    "    model=\"llama-3.3-70b-versatile\",\n",
    ")\n",
    "# Exibindo o conteúdo da resposta\n",
    "print(chat_completion.choices[0].message.content)\n"
   ]
  },
  {
   "cell_type": "code",
   "execution_count": null,
   "id": "f40f2dfa",
   "metadata": {},
   "outputs": [],
   "source": [
    "# Groq Agent Class\n",
    "class Agent:\n",
    "    # Construtor de classe para inicializar o cliente Groq e o sistema\n",
    "    def __init__(self, client: Groq, system: str = \"\") -> None:\n",
    "        self.client = client\n",
    "        self.system = system\n",
    "        self.messages: list = []\n",
    "        if self.system:\n",
    "            self.messages.append({\"role\": \"system\", \"content\": system})\n",
    "# Método para adicionar uma mensagem do usuário e obter uma resposta do modelo\n",
    "    def __call__(self, message=\"\"):\n",
    "        if message:\n",
    "            self.messages.append({\"role\": \"user\", \"content\": message})\n",
    "        result = self.execute()\n",
    "        self.messages.append({\"role\": \"assistant\", \"content\": result})\n",
    "        return result\n",
    "# Método para executar a solicitação de conclusão de chat\n",
    "    def execute(self):\n",
    "        completion = client.chat.completions.create(\n",
    "            model=\"llama-3.3-70b-versatile\", messages=self.messages\n",
    "        )\n",
    "        return completion.choices[0].message.content"
   ]
  },
  {
   "cell_type": "code",
   "execution_count": null,
   "id": "a36f2fd7",
   "metadata": {},
   "outputs": [],
   "source": [
    "# Definindo o sistema de prompt para o agente\n",
    "system_prompt = \"\"\"\n",
    "You run in a loop of Thought, Action, PAUSE, Observation.\n",
    "At the end of the loop you output an Answer.\n",
    "Use Thought to describe your thoughts about the question you have been asked.\n",
    "Use Action to run one of the actions available to you - then return PAUSE.\n",
    "Observation will be the result of running those actions.\n",
    "\n",
    "Your available actions are:\n",
    "\n",
    "calculate:\n",
    "e.g. calculate: 4 * 7 / 3\n",
    "Runs a calculation and returns the number - uses Python so be sure to use floating point syntax if necessary.\n",
    "\n",
    "estimate_swimming_strokes:\n",
    "e.g. estimate_swimming_strokes: height=1.9, level='elite', pool_length=50\n",
    "Estimates the number of strokes (one arm) to cross a pool. \n",
    "Parameters:\n",
    "- height: The swimmer's height in meters.\n",
    "- level: The swimmer's skill level ('beginner', 'intermediate', or 'elite').\n",
    "- pool_length: The length of the pool in meters (e.g., 25 or 50).\n",
    "\n",
    "Example session:\n",
    "\n",
    "Question: Quantas braçadas eu preciso dar na piscina sendo um nadador de elite com 1,75m?\n",
    "Thought: A pergunta pede uma estimativa de braçadas para um nadador de elite com 1,75m. A ferramenta `estimate_swimming_strokes` é a ideal para isso. A pergunta não especifica o tamanho da piscina, então vou assumir o padrão olímpico, que é de 50 metros, pois é o mais comum para o nível 'elite'. Vou usar os parâmetros height=1.75, level='elite', e pool_length=50.\n",
    "Action: estimate_swimming_strokes: height=1.75, level='elite', pool_length=50\n",
    "PAUSE\n",
    "\n",
    "You will be called again with this:\n",
    "\n",
    "Observation: 37\n",
    "\n",
    "Thought: A ferramenta retornou uma estimativa de 37 braçadas. Esta é a resposta final para a pergunta. Agora vou formatá-la de forma clara para o usuário.\n",
    "Answer: Para um nadador de elite com 1,75m de altura, a estimativa é de aproximadamente 37 braçadas para atravessar uma piscina olímpica de 50 metros.\n",
    "\n",
    "Now it's your turn:\n",
    "\"\"\".strip()"
   ]
  },
  {
   "cell_type": "code",
   "execution_count": null,
   "id": "3f0aca6d",
   "metadata": {},
   "outputs": [],
   "source": [
    "# ferramenta = são as funções que o agente pode chamar\n",
    "import math\n",
    "\n",
    "def calculate(operation: str) -> float: # operação de cálculo \n",
    "    try:\n",
    "        return eval(operation) # avalia a expressão matemática\n",
    "    except Exception as e:\n",
    "        return f\"Erro no cálculo: {e}\" #  retorna erro se houver um problema na avaliação\n",
    "\n",
    "def estimate_swimming_strokes(height: float, level: str, pool_length: int) -> int:\n",
    "    efficiency_factors = { # fatores de eficiência para diferentes níveis de nadadores\n",
    "        'beginner': 1.2,\n",
    "        'intermediate': 1.0,\n",
    "        'elite': 0.85\n",
    "    }\n",
    "    # Verifica se o nível é válido\n",
    "    level_factor = efficiency_factors.get(level.lower(), 1.0)\n",
    "    # Verifica se a altura é válida\n",
    "    distance_per_stroke = height * 0.95 # distancia da braçada em metros, 95% da altura do nadador\n",
    "    # Verifica se a distância por braçada é zero\n",
    "    if distance_per_stroke == 0:\n",
    "        return 0\n",
    "    # Calcula o número de braçadas necessárias    \n",
    "    strokes = (pool_length / distance_per_stroke) * level_factor # quantas braçadas são necessárias\n",
    "    # Verifica se o número de braçadas é negativo\n",
    "    return math.ceil(strokes) # arrendondando para cima para garantir que cubra a distância"
   ]
  },
  {
   "cell_type": "code",
   "execution_count": null,
   "id": "c8363d32",
   "metadata": {},
   "outputs": [],
   "source": [
    "# Criando uma instância do agente com o cliente Groq e o sistema de prompt\n",
    "michael_phelps = Agent(client, system_prompt) "
   ]
  },
  {
   "cell_type": "code",
   "execution_count": null,
   "id": "425cb9af",
   "metadata": {},
   "outputs": [
    {
     "name": "stdout",
     "output_type": "stream",
     "text": [
      "Thought: A pergunta pede uma estimativa de braçadas para um nadador de elite com 1,75m. A ferramenta `estimate_swimming_strokes` é a ideal para isso. A pergunta não especifica o tamanho da piscina, então vou assumir o padrão olímpico, que é de 50 metros, pois é o mais comum para o nível 'elite'. Vou usar os parâmetros height=1.75, level='elite', e pool_length=50.\n",
      "Action: estimate_swimming_strokes: height=1.75, level='elite', pool_length=50\n",
      "PAUSE\n"
     ]
    }
   ],
   "source": [
    "# Exemplo de uso do agente para estimar o número de braçadas\n",
    "result =  michael_phelps(\"Quantas braçadas eu preciso dar na piscina sendo um nadador de elite com 1,75m?\")\n",
    "print(result) "
   ]
  },
  {
   "cell_type": "code",
   "execution_count": null,
   "id": "8a33a765",
   "metadata": {},
   "outputs": [
    {
     "data": {
      "text/plain": [
       "[{'role': 'system',\n",
       "  'content': \"You run in a loop of Thought, Action, PAUSE, Observation.\\nAt the end of the loop you output an Answer.\\nUse Thought to describe your thoughts about the question you have been asked.\\nUse Action to run one of the actions available to you - then return PAUSE.\\nObservation will be the result of running those actions.\\n\\nYour available actions are:\\n\\ncalculate:\\ne.g. calculate: 4 * 7 / 3\\nRuns a calculation and returns the number - uses Python so be sure to use floating point syntax if necessary.\\n\\nestimate_swimming_strokes:\\ne.g. estimate_swimming_strokes: height=1.9, level='elite', pool_length=50\\nEstimates the number of strokes (one arm) to cross a pool. \\nParameters:\\n- height: The swimmer's height in meters.\\n- level: The swimmer's skill level ('beginner', 'intermediate', or 'elite').\\n- pool_length: The length of the pool in meters (e.g., 25 or 50).\\n\\nExample session:\\n\\nQuestion: Quantas braçadas eu preciso dar na piscina sendo um nadador de elite com 1,75m?\\nThought: A pergunta pede uma estimativa de braçadas para um nadador de elite com 1,75m. A ferramenta `estimate_swimming_strokes` é a ideal para isso. A pergunta não especifica o tamanho da piscina, então vou assumir o padrão olímpico, que é de 50 metros, pois é o mais comum para o nível 'elite'. Vou usar os parâmetros height=1.75, level='elite', e pool_length=50.\\nAction: estimate_swimming_strokes: height=1.75, level='elite', pool_length=50\\nPAUSE\\n\\nYou will be called again with this:\\n\\nObservation: 37\\n\\nThought: A ferramenta retornou uma estimativa de 37 braçadas. Esta é a resposta final para a pergunta. Agora vou formatá-la de forma clara para o usuário.\\nAnswer: Para um nadador de elite com 1,75m de altura, a estimativa é de aproximadamente 37 braçadas para atravessar uma piscina olímpica de 50 metros.\\n\\nNow it's your turn:\"},\n",
       " {'role': 'user',\n",
       "  'content': 'Quantas braçadas eu preciso dar na piscina sendo um nadador de elite com 1,75m?'},\n",
       " {'role': 'assistant',\n",
       "  'content': \"Thought: A pergunta pede uma estimativa de braçadas para um nadador de elite com 1,75m. A ferramenta `estimate_swimming_strokes` é a ideal para isso. A pergunta não especifica o tamanho da piscina, então vou assumir o padrão olímpico, que é de 50 metros, pois é o mais comum para o nível 'elite'. Vou usar os parâmetros height=1.75, level='elite', e pool_length=50.\\nAction: estimate_swimming_strokes: height=1.75, level='elite', pool_length=50\\nPAUSE\"}]"
      ]
     },
     "execution_count": 69,
     "metadata": {},
     "output_type": "execute_result"
    }
   ],
   "source": [
    "michael_phelps.messages"
   ]
  },
  {
   "cell_type": "code",
   "execution_count": null,
   "id": "fec83681",
   "metadata": {},
   "outputs": [
    {
     "name": "stdout",
     "output_type": "stream",
     "text": [
      "\n"
     ]
    }
   ],
   "source": [
    "# Exemplo de uso do agente para calcular uma expressão matemática\n",
    "result = michael_phelps()\n",
    "print(result)"
   ]
  },
  {
   "cell_type": "code",
   "execution_count": null,
   "id": "0e377ad1",
   "metadata": {},
   "outputs": [
    {
     "name": "stdout",
     "output_type": "stream",
     "text": [
      "26\n"
     ]
    }
   ],
   "source": [
    "#  Exemplo de uso da função estimate_swimming_strokes diretamente\n",
    "observation = estimate_swimming_strokes(height=1.75, level='elite', pool_length=50)\n",
    "print(observation)"
   ]
  },
  {
   "cell_type": "code",
   "execution_count": null,
   "id": "bf216586",
   "metadata": {},
   "outputs": [
    {
     "name": "stdout",
     "output_type": "stream",
     "text": [
      "Thought: A ferramenta retornou uma estimativa de 26 braçadas. Esta é a resposta final para a pergunta. Agora vou formatá-la de forma clara para o usuário.\n",
      "Answer: Para um nadador de elite com 1,75m de altura, a estimativa é de aproximadamente 26 braçadas para atravessar uma piscina olímpica de 50 metros.\n"
     ]
    }
   ],
   "source": [
    "# Continuando o loop do agente com a observação obtida\n",
    "next_prompt = f\"Observation: {observation}\"\n",
    "result = michael_phelps(next_prompt)\n",
    "print(result)"
   ]
  },
  {
   "cell_type": "code",
   "execution_count": 73,
   "id": "186d1865",
   "metadata": {},
   "outputs": [
    {
     "data": {
      "text/plain": [
       "[{'role': 'system',\n",
       "  'content': \"You run in a loop of Thought, Action, PAUSE, Observation.\\nAt the end of the loop you output an Answer.\\nUse Thought to describe your thoughts about the question you have been asked.\\nUse Action to run one of the actions available to you - then return PAUSE.\\nObservation will be the result of running those actions.\\n\\nYour available actions are:\\n\\ncalculate:\\ne.g. calculate: 4 * 7 / 3\\nRuns a calculation and returns the number - uses Python so be sure to use floating point syntax if necessary.\\n\\nestimate_swimming_strokes:\\ne.g. estimate_swimming_strokes: height=1.9, level='elite', pool_length=50\\nEstimates the number of strokes (one arm) to cross a pool. \\nParameters:\\n- height: The swimmer's height in meters.\\n- level: The swimmer's skill level ('beginner', 'intermediate', or 'elite').\\n- pool_length: The length of the pool in meters (e.g., 25 or 50).\\n\\nExample session:\\n\\nQuestion: Quantas braçadas eu preciso dar na piscina sendo um nadador de elite com 1,75m?\\nThought: A pergunta pede uma estimativa de braçadas para um nadador de elite com 1,75m. A ferramenta `estimate_swimming_strokes` é a ideal para isso. A pergunta não especifica o tamanho da piscina, então vou assumir o padrão olímpico, que é de 50 metros, pois é o mais comum para o nível 'elite'. Vou usar os parâmetros height=1.75, level='elite', e pool_length=50.\\nAction: estimate_swimming_strokes: height=1.75, level='elite', pool_length=50\\nPAUSE\\n\\nYou will be called again with this:\\n\\nObservation: 37\\n\\nThought: A ferramenta retornou uma estimativa de 37 braçadas. Esta é a resposta final para a pergunta. Agora vou formatá-la de forma clara para o usuário.\\nAnswer: Para um nadador de elite com 1,75m de altura, a estimativa é de aproximadamente 37 braçadas para atravessar uma piscina olímpica de 50 metros.\\n\\nNow it's your turn:\"},\n",
       " {'role': 'user',\n",
       "  'content': 'Quantas braçadas eu preciso dar na piscina sendo um nadador de elite com 1,75m?'},\n",
       " {'role': 'assistant',\n",
       "  'content': \"Thought: A pergunta pede uma estimativa de braçadas para um nadador de elite com 1,75m. A ferramenta `estimate_swimming_strokes` é a ideal para isso. A pergunta não especifica o tamanho da piscina, então vou assumir o padrão olímpico, que é de 50 metros, pois é o mais comum para o nível 'elite'. Vou usar os parâmetros height=1.75, level='elite', e pool_length=50.\\nAction: estimate_swimming_strokes: height=1.75, level='elite', pool_length=50\\nPAUSE\"},\n",
       " {'role': 'assistant', 'content': ''},\n",
       " {'role': 'user', 'content': 'Observation: 26'},\n",
       " {'role': 'assistant',\n",
       "  'content': 'Thought: A ferramenta retornou uma estimativa de 26 braçadas. Esta é a resposta final para a pergunta. Agora vou formatá-la de forma clara para o usuário.\\nAnswer: Para um nadador de elite com 1,75m de altura, a estimativa é de aproximadamente 26 braçadas para atravessar uma piscina olímpica de 50 metros.'}]"
      ]
     },
     "execution_count": 73,
     "metadata": {},
     "output_type": "execute_result"
    }
   ],
   "source": [
    "michael_phelps.messages"
   ]
  },
  {
   "cell_type": "code",
   "execution_count": null,
   "id": "0eedebe1",
   "metadata": {},
   "outputs": [],
   "source": [
    "import re \n",
    "def agent_loop(max_iterations, query): # função para executar o loop do agente\n",
    "    agent = Agent(client, system_prompt)\n",
    "    tools = ['calculate', 'estimate_swimming_strokes']\n",
    "    next_prompt = f\"N :{query}\"\n",
    "    i = 0\n",
    "\n",
    "    while i < max_iterations:\n",
    "        i += 1\n",
    "        result = agent(next_prompt)\n",
    "        print(f\"Saída: {result}\")\n",
    "        \n",
    "        if \"PAUSE\" in result and \"Action\" in result: # verifica se há uma ação a ser executada\n",
    "            action_match = re.search(r\"Action: ([a-zA-Z_]+):\\s*(.*)\", result, re.IGNORECASE) # mudei o regex lidar melhor com os argumentos\n",
    "            \n",
    "            if action_match: # encontrou uma ação\n",
    "                chosen_tool, arg_string = action_match.groups()\n",
    "                \n",
    "                if chosen_tool in tools: # verifica se a ferramenta está disponível\n",
    "                    function_call = f\"{chosen_tool}({arg_string})\"\n",
    "                    print(f\"Executando ação: {function_call}\\n\")\n",
    "                    try:\n",
    "                        result_tool = eval(function_call) # executa a função correspondente\n",
    "                        next_prompt = f\"Observation: {result_tool}\"\n",
    "                    except Exception as e: # captura erros na execução da ferramenta\n",
    "                        next_prompt = f\"Observation: Erro ao executar a ferramenta - {e}\"\n",
    "                else: # a ferramenta não está disponível\n",
    "                    next_prompt = f\"Observation: Ferramenta '{chosen_tool}' não encontrada.\"\n",
    "            else: # não encontrou uma ação válida\n",
    "                next_prompt = \"Observation: Não foi possível analisar a Ação.\"\n",
    "\n",
    "            print(f\"--- Próximo Input para o Agente ---\\n{next_prompt}\\n\")\n",
    "            continue \n",
    "\n",
    "        if \"Answer\" in result:\n",
    "            print(\"Missão concluída!\")\n",
    "            break\n"
   ]
  },
  {
   "cell_type": "code",
   "execution_count": null,
   "id": "d028522a",
   "metadata": {},
   "outputs": [
    {
     "name": "stdout",
     "output_type": "stream",
     "text": [
      "Saída: Thought: A pergunta pede uma estimativa de braçadas para um nadador de elite com 1,75m. A ferramenta `estimate_swimming_strokes` é a ideal para isso. A pergunta não especifica o tamanho da piscina, então vou assumir o padrão olímpico, que é de 50 metros, pois é o mais comum para o nível 'elite'. Vou usar os parâmetros height=1.75, level='elite', e pool_length=50.\n",
      "\n",
      "Action: estimate_swimming_strokes: height=1.75, level='elite', pool_length=50\n",
      "\n",
      "PAUSE\n",
      "Executando ação: estimate_swimming_strokes(height=1.75, level='elite', pool_length=50)\n",
      "\n",
      "--- Próximo Input para o Agente ---\n",
      "Observation: 26\n",
      "\n",
      "Saída: Thought: A ferramenta retornou uma estimativa de 26 braçadas. Esta é a resposta final para a pergunta. Agora vou formatá-la de forma clara para o usuário.\n",
      "\n",
      "Answer: Para um nadador de elite com 1,75m de altura, a estimativa é de aproximadamente 26 braçadas para atravessar uma piscina olímpica de 50 metros.\n",
      "Missão concluída!\n"
     ]
    }
   ],
   "source": [
    "agent_loop( \n",
    "    max_iterations=5, # defini o número de interações como 5 por ser  razoável para evitar loops infinitos\n",
    "    query=\"Quantas braçadas eu preciso dar na piscina sendo um nadador de elite com 1,75m?\"\n",
    ")"
   ]
  }
 ],
 "metadata": {
  "kernelspec": {
   "display_name": ".venv",
   "language": "python",
   "name": "python3"
  },
  "language_info": {
   "codemirror_mode": {
    "name": "ipython",
    "version": 3
   },
   "file_extension": ".py",
   "mimetype": "text/x-python",
   "name": "python",
   "nbconvert_exporter": "python",
   "pygments_lexer": "ipython3",
   "version": "3.12.3"
  }
 },
 "nbformat": 4,
 "nbformat_minor": 5
}
